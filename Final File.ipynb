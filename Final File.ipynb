{
 "cells": [
  {
   "cell_type": "code",
   "execution_count": 140,
   "id": "44e9bb4a",
   "metadata": {},
   "outputs": [],
   "source": [
    "import pandas as pd\n",
    "import numpy as np\n",
    "import matplotlib.pyplot as plt\n",
    "import seaborn as sns\n",
    "from scipy import stats\n",
    "\n",
    "import warnings\n",
    "warnings.filterwarnings('ignore')\n",
    "%matplotlib inline"
   ]
  },
  {
   "cell_type": "code",
   "execution_count": 141,
   "id": "fd670a19",
   "metadata": {
    "scrolled": true
   },
   "outputs": [
    {
     "data": {
      "text/html": [
       "<div>\n",
       "<style scoped>\n",
       "    .dataframe tbody tr th:only-of-type {\n",
       "        vertical-align: middle;\n",
       "    }\n",
       "\n",
       "    .dataframe tbody tr th {\n",
       "        vertical-align: top;\n",
       "    }\n",
       "\n",
       "    .dataframe thead th {\n",
       "        text-align: right;\n",
       "    }\n",
       "</style>\n",
       "<table border=\"1\" class=\"dataframe\">\n",
       "  <thead>\n",
       "    <tr style=\"text-align: right;\">\n",
       "      <th></th>\n",
       "      <th>CLIENT ID</th>\n",
       "      <th>NB PRODS</th>\n",
       "      <th>ORDER ID</th>\n",
       "      <th>FRUIT_PRODUCT</th>\n",
       "    </tr>\n",
       "  </thead>\n",
       "  <tbody>\n",
       "    <tr>\n",
       "      <th>0</th>\n",
       "      <td>18070505</td>\n",
       "      <td>5</td>\n",
       "      <td>671907264</td>\n",
       "      <td>Apple</td>\n",
       "    </tr>\n",
       "    <tr>\n",
       "      <th>1</th>\n",
       "      <td>18070505</td>\n",
       "      <td>10</td>\n",
       "      <td>671907264</td>\n",
       "      <td>Orange</td>\n",
       "    </tr>\n",
       "    <tr>\n",
       "      <th>2</th>\n",
       "      <td>18070505</td>\n",
       "      <td>5</td>\n",
       "      <td>671907264</td>\n",
       "      <td>Kiwi</td>\n",
       "    </tr>\n",
       "    <tr>\n",
       "      <th>3</th>\n",
       "      <td>18070505</td>\n",
       "      <td>10</td>\n",
       "      <td>671907264</td>\n",
       "      <td>Pear</td>\n",
       "    </tr>\n",
       "    <tr>\n",
       "      <th>4</th>\n",
       "      <td>18070505</td>\n",
       "      <td>5</td>\n",
       "      <td>671907264</td>\n",
       "      <td>Cheery</td>\n",
       "    </tr>\n",
       "  </tbody>\n",
       "</table>\n",
       "</div>"
      ],
      "text/plain": [
       "   CLIENT ID  NB PRODS   ORDER ID FRUIT_PRODUCT\n",
       "0   18070505         5  671907264         Apple\n",
       "1   18070505        10  671907264        Orange\n",
       "2   18070505         5  671907264          Kiwi\n",
       "3   18070505        10  671907264          Pear\n",
       "4   18070505         5  671907264        Cheery"
      ]
     },
     "execution_count": 141,
     "metadata": {},
     "output_type": "execute_result"
    }
   ],
   "source": [
    "ot = pd.read_csv(\"mwc22-orders_table.csv\")\n",
    "ot.head()"
   ]
  },
  {
   "cell_type": "code",
   "execution_count": 142,
   "id": "a06ab55f",
   "metadata": {
    "scrolled": true
   },
   "outputs": [
    {
     "data": {
      "text/html": [
       "<div>\n",
       "<style scoped>\n",
       "    .dataframe tbody tr th:only-of-type {\n",
       "        vertical-align: middle;\n",
       "    }\n",
       "\n",
       "    .dataframe tbody tr th {\n",
       "        vertical-align: top;\n",
       "    }\n",
       "\n",
       "    .dataframe thead th {\n",
       "        text-align: right;\n",
       "    }\n",
       "</style>\n",
       "<table border=\"1\" class=\"dataframe\">\n",
       "  <thead>\n",
       "    <tr style=\"text-align: right;\">\n",
       "      <th></th>\n",
       "      <th>CLIENT ID</th>\n",
       "      <th>CLIENT_SEGMENT</th>\n",
       "      <th>AVG CONSO</th>\n",
       "      <th>AVG BASKET SIZE</th>\n",
       "      <th>RECEIVED_COMMUNICATION</th>\n",
       "    </tr>\n",
       "  </thead>\n",
       "  <tbody>\n",
       "    <tr>\n",
       "      <th>0</th>\n",
       "      <td>24321771</td>\n",
       "      <td>6</td>\n",
       "      <td>67.25</td>\n",
       "      <td>201.75</td>\n",
       "      <td>0</td>\n",
       "    </tr>\n",
       "    <tr>\n",
       "      <th>1</th>\n",
       "      <td>24321859</td>\n",
       "      <td>2</td>\n",
       "      <td>58.33</td>\n",
       "      <td>350.00</td>\n",
       "      <td>0</td>\n",
       "    </tr>\n",
       "    <tr>\n",
       "      <th>2</th>\n",
       "      <td>24321880</td>\n",
       "      <td>3</td>\n",
       "      <td>46.67</td>\n",
       "      <td>112.00</td>\n",
       "      <td>0</td>\n",
       "    </tr>\n",
       "    <tr>\n",
       "      <th>3</th>\n",
       "      <td>24321957</td>\n",
       "      <td>2</td>\n",
       "      <td>50.00</td>\n",
       "      <td>600.00</td>\n",
       "      <td>0</td>\n",
       "    </tr>\n",
       "    <tr>\n",
       "      <th>4</th>\n",
       "      <td>24321962</td>\n",
       "      <td>4</td>\n",
       "      <td>10.00</td>\n",
       "      <td>120.00</td>\n",
       "      <td>0</td>\n",
       "    </tr>\n",
       "  </tbody>\n",
       "</table>\n",
       "</div>"
      ],
      "text/plain": [
       "   CLIENT ID  CLIENT_SEGMENT  AVG CONSO  AVG BASKET SIZE  \\\n",
       "0   24321771               6      67.25           201.75   \n",
       "1   24321859               2      58.33           350.00   \n",
       "2   24321880               3      46.67           112.00   \n",
       "3   24321957               2      50.00           600.00   \n",
       "4   24321962               4      10.00           120.00   \n",
       "\n",
       "   RECEIVED_COMMUNICATION  \n",
       "0                       0  \n",
       "1                       0  \n",
       "2                       0  \n",
       "3                       0  \n",
       "4                       0  "
      ]
     },
     "execution_count": 142,
     "metadata": {},
     "output_type": "execute_result"
    }
   ],
   "source": [
    "# We must replace commas with dots to avoid getting errors.\n",
    "ct = pd.read_csv(\"mwc22-client_table.csv\",decimal=',')\n",
    "ct.head()"
   ]
  },
  {
   "cell_type": "markdown",
   "id": "3ba08f03",
   "metadata": {},
   "source": [
    "##### Exploratory Data Analysis and Data Preprocessing"
   ]
  },
  {
   "cell_type": "code",
   "execution_count": 143,
   "id": "5d5ce1f4",
   "metadata": {},
   "outputs": [],
   "source": [
    "# Check the missing data or nulls\n",
    "def missing_data(x):\n",
    "    total = x.isnull().sum().sort_values(ascending=False)\n",
    "    percent = (x.isnull().sum()/x.isnull().count()).sort_values(ascending=False)\n",
    "    missing_data = pd.concat([total, percent], axis=1, keys=[\"Total\", \"Percent\"])\n",
    "    return missing_data"
   ]
  },
  {
   "cell_type": "code",
   "execution_count": 144,
   "id": "b89ea15f",
   "metadata": {},
   "outputs": [],
   "source": [
    "# Correlation heatmap\n",
    "def correlation(x):\n",
    "    corrmat = x.corr()\n",
    "    f, ax = plt.subplots(figsize=(12, 9))\n",
    "    sns.heatmap(corrmat, vmax=.8, square=True, annot=True)"
   ]
  },
  {
   "cell_type": "code",
   "execution_count": 145,
   "id": "ce75395a",
   "metadata": {},
   "outputs": [
    {
     "data": {
      "text/html": [
       "<div>\n",
       "<style scoped>\n",
       "    .dataframe tbody tr th:only-of-type {\n",
       "        vertical-align: middle;\n",
       "    }\n",
       "\n",
       "    .dataframe tbody tr th {\n",
       "        vertical-align: top;\n",
       "    }\n",
       "\n",
       "    .dataframe thead th {\n",
       "        text-align: right;\n",
       "    }\n",
       "</style>\n",
       "<table border=\"1\" class=\"dataframe\">\n",
       "  <thead>\n",
       "    <tr style=\"text-align: right;\">\n",
       "      <th></th>\n",
       "      <th>Total</th>\n",
       "      <th>Percent</th>\n",
       "    </tr>\n",
       "  </thead>\n",
       "  <tbody>\n",
       "    <tr>\n",
       "      <th>CLIENT ID</th>\n",
       "      <td>0</td>\n",
       "      <td>0.00</td>\n",
       "    </tr>\n",
       "    <tr>\n",
       "      <th>NB PRODS</th>\n",
       "      <td>0</td>\n",
       "      <td>0.00</td>\n",
       "    </tr>\n",
       "    <tr>\n",
       "      <th>ORDER ID</th>\n",
       "      <td>0</td>\n",
       "      <td>0.00</td>\n",
       "    </tr>\n",
       "    <tr>\n",
       "      <th>FRUIT_PRODUCT</th>\n",
       "      <td>0</td>\n",
       "      <td>0.00</td>\n",
       "    </tr>\n",
       "  </tbody>\n",
       "</table>\n",
       "</div>"
      ],
      "text/plain": [
       "               Total  Percent\n",
       "CLIENT ID          0     0.00\n",
       "NB PRODS           0     0.00\n",
       "ORDER ID           0     0.00\n",
       "FRUIT_PRODUCT      0     0.00"
      ]
     },
     "execution_count": 145,
     "metadata": {},
     "output_type": "execute_result"
    }
   ],
   "source": [
    "missing_data(ot)"
   ]
  },
  {
   "cell_type": "code",
   "execution_count": 146,
   "id": "75e0d945",
   "metadata": {
    "scrolled": true
   },
   "outputs": [
    {
     "data": {
      "text/html": [
       "<div>\n",
       "<style scoped>\n",
       "    .dataframe tbody tr th:only-of-type {\n",
       "        vertical-align: middle;\n",
       "    }\n",
       "\n",
       "    .dataframe tbody tr th {\n",
       "        vertical-align: top;\n",
       "    }\n",
       "\n",
       "    .dataframe thead th {\n",
       "        text-align: right;\n",
       "    }\n",
       "</style>\n",
       "<table border=\"1\" class=\"dataframe\">\n",
       "  <thead>\n",
       "    <tr style=\"text-align: right;\">\n",
       "      <th></th>\n",
       "      <th>Total</th>\n",
       "      <th>Percent</th>\n",
       "    </tr>\n",
       "  </thead>\n",
       "  <tbody>\n",
       "    <tr>\n",
       "      <th>CLIENT ID</th>\n",
       "      <td>0</td>\n",
       "      <td>0.00</td>\n",
       "    </tr>\n",
       "    <tr>\n",
       "      <th>CLIENT_SEGMENT</th>\n",
       "      <td>0</td>\n",
       "      <td>0.00</td>\n",
       "    </tr>\n",
       "    <tr>\n",
       "      <th>AVG CONSO</th>\n",
       "      <td>0</td>\n",
       "      <td>0.00</td>\n",
       "    </tr>\n",
       "    <tr>\n",
       "      <th>AVG BASKET SIZE</th>\n",
       "      <td>0</td>\n",
       "      <td>0.00</td>\n",
       "    </tr>\n",
       "    <tr>\n",
       "      <th>RECEIVED_COMMUNICATION</th>\n",
       "      <td>0</td>\n",
       "      <td>0.00</td>\n",
       "    </tr>\n",
       "  </tbody>\n",
       "</table>\n",
       "</div>"
      ],
      "text/plain": [
       "                        Total  Percent\n",
       "CLIENT ID                   0     0.00\n",
       "CLIENT_SEGMENT              0     0.00\n",
       "AVG CONSO                   0     0.00\n",
       "AVG BASKET SIZE             0     0.00\n",
       "RECEIVED_COMMUNICATION      0     0.00"
      ]
     },
     "execution_count": 146,
     "metadata": {},
     "output_type": "execute_result"
    }
   ],
   "source": [
    "missing_data(ct)"
   ]
  },
  {
   "cell_type": "code",
   "execution_count": 147,
   "id": "4c91deb2",
   "metadata": {
    "scrolled": true
   },
   "outputs": [
    {
     "data": {
      "image/png": "[encoded data removed]",
      "text/plain": [
       "<Figure size 864x648 with 2 Axes>"
      ]
     },
     "metadata": {
      "needs_background": "light"
     },
     "output_type": "display_data"
    }
   ],
   "source": [
    "# Check the correlation in both Data Frames\n",
    "correlation(ot)"
   ]
  },
  {
   "cell_type": "code",
   "execution_count": 148,
   "id": "5af43592",
   "metadata": {
    "scrolled": true
   },
   "outputs": [
    {
     "data": {
      "image/png": "[encoded data removed]",
      "text/plain": [
       "<Figure size 864x648 with 2 Axes>"
      ]
     },
     "metadata": {
      "needs_background": "light"
     },
     "output_type": "display_data"
    }
   ],
   "source": [
    "correlation(ct)"
   ]
  },
  {
   "cell_type": "markdown",
   "id": "d8c9d210",
   "metadata": {},
   "source": [
    "Apparently, there is a little correlation between average consumption and the client segment. Thus, we can hypothesise that the consumntion it is indeed related to the segment. What has to do with the promotion, it has low effect on AVG CONSO or AVG BASKET SIZE, only being related to the CLIENT ID."
   ]
  },
  {
   "cell_type": "code",
   "execution_count": 149,
   "id": "20307e57",
   "metadata": {
    "scrolled": true
   },
   "outputs": [
    {
     "data": {
      "text/plain": [
       "CLIENT_SEGMENT\n",
       "1    6505\n",
       "2    6760\n",
       "3    8123\n",
       "4    7927\n",
       "5    3429\n",
       "6    3140\n",
       "dtype: int64"
      ]
     },
     "execution_count": 149,
     "metadata": {},
     "output_type": "execute_result"
    }
   ],
   "source": [
    "ct.pivot_table(index=[\"CLIENT_SEGMENT\"], aggfunc=\"size\")"
   ]
  },
  {
   "cell_type": "code",
   "execution_count": 150,
   "id": "c222139e",
   "metadata": {
    "scrolled": false
   },
   "outputs": [
    {
     "data": {
      "text/html": [
       "<div>\n",
       "<style scoped>\n",
       "    .dataframe tbody tr th:only-of-type {\n",
       "        vertical-align: middle;\n",
       "    }\n",
       "\n",
       "    .dataframe tbody tr th {\n",
       "        vertical-align: top;\n",
       "    }\n",
       "\n",
       "    .dataframe thead th {\n",
       "        text-align: right;\n",
       "    }\n",
       "</style>\n",
       "<table border=\"1\" class=\"dataframe\">\n",
       "  <thead>\n",
       "    <tr style=\"text-align: right;\">\n",
       "      <th></th>\n",
       "      <th>NB PRODS</th>\n",
       "    </tr>\n",
       "    <tr>\n",
       "      <th>FRUIT_PRODUCT</th>\n",
       "      <th></th>\n",
       "    </tr>\n",
       "  </thead>\n",
       "  <tbody>\n",
       "    <tr>\n",
       "      <th>Cheery</th>\n",
       "      <td>6.58</td>\n",
       "    </tr>\n",
       "    <tr>\n",
       "      <th>Pear</th>\n",
       "      <td>6.19</td>\n",
       "    </tr>\n",
       "    <tr>\n",
       "      <th>Lemon</th>\n",
       "      <td>6.01</td>\n",
       "    </tr>\n",
       "    <tr>\n",
       "      <th>Kiwi</th>\n",
       "      <td>5.60</td>\n",
       "    </tr>\n",
       "    <tr>\n",
       "      <th>Orange</th>\n",
       "      <td>5.53</td>\n",
       "    </tr>\n",
       "    <tr>\n",
       "      <th>Nuwe Fruit</th>\n",
       "      <td>5.38</td>\n",
       "    </tr>\n",
       "    <tr>\n",
       "      <th>Nectarine</th>\n",
       "      <td>5.38</td>\n",
       "    </tr>\n",
       "    <tr>\n",
       "      <th>Banana</th>\n",
       "      <td>5.18</td>\n",
       "    </tr>\n",
       "    <tr>\n",
       "      <th>Coconut</th>\n",
       "      <td>4.88</td>\n",
       "    </tr>\n",
       "    <tr>\n",
       "      <th>Apricot</th>\n",
       "      <td>4.29</td>\n",
       "    </tr>\n",
       "    <tr>\n",
       "      <th>Papaya</th>\n",
       "      <td>4.26</td>\n",
       "    </tr>\n",
       "    <tr>\n",
       "      <th>Strawberry</th>\n",
       "      <td>3.82</td>\n",
       "    </tr>\n",
       "    <tr>\n",
       "      <th>Lime</th>\n",
       "      <td>3.55</td>\n",
       "    </tr>\n",
       "    <tr>\n",
       "      <th>Pomegranate</th>\n",
       "      <td>3.05</td>\n",
       "    </tr>\n",
       "    <tr>\n",
       "      <th>Watermelon</th>\n",
       "      <td>3.04</td>\n",
       "    </tr>\n",
       "    <tr>\n",
       "      <th>Pineapple</th>\n",
       "      <td>3.04</td>\n",
       "    </tr>\n",
       "    <tr>\n",
       "      <th>Jackfruit</th>\n",
       "      <td>2.96</td>\n",
       "    </tr>\n",
       "    <tr>\n",
       "      <th>Mango</th>\n",
       "      <td>2.82</td>\n",
       "    </tr>\n",
       "    <tr>\n",
       "      <th>Devil Fruit</th>\n",
       "      <td>2.79</td>\n",
       "    </tr>\n",
       "    <tr>\n",
       "      <th>Blueberry</th>\n",
       "      <td>2.67</td>\n",
       "    </tr>\n",
       "    <tr>\n",
       "      <th>Melon</th>\n",
       "      <td>2.53</td>\n",
       "    </tr>\n",
       "    <tr>\n",
       "      <th>Plum</th>\n",
       "      <td>2.14</td>\n",
       "    </tr>\n",
       "    <tr>\n",
       "      <th>Grape</th>\n",
       "      <td>2.11</td>\n",
       "    </tr>\n",
       "    <tr>\n",
       "      <th>Apple</th>\n",
       "      <td>1.93</td>\n",
       "    </tr>\n",
       "  </tbody>\n",
       "</table>\n",
       "</div>"
      ],
      "text/plain": [
       "               NB PRODS\n",
       "FRUIT_PRODUCT          \n",
       "Cheery             6.58\n",
       "Pear               6.19\n",
       "Lemon              6.01\n",
       "Kiwi               5.60\n",
       "Orange             5.53\n",
       "Nuwe Fruit         5.38\n",
       "Nectarine          5.38\n",
       "Banana             5.18\n",
       "Coconut            4.88\n",
       "Apricot            4.29\n",
       "Papaya             4.26\n",
       "Strawberry         3.82\n",
       "Lime               3.55\n",
       "Pomegranate        3.05\n",
       "Watermelon         3.04\n",
       "Pineapple          3.04\n",
       "Jackfruit          2.96\n",
       "Mango              2.82\n",
       "Devil Fruit        2.79\n",
       "Blueberry          2.67\n",
       "Melon              2.53\n",
       "Plum               2.14\n",
       "Grape              2.11\n",
       "Apple              1.93"
      ]
     },
     "execution_count": 150,
     "metadata": {},
     "output_type": "execute_result"
    }
   ],
   "source": [
    "# Average fruit purchase per order\n",
    "pd.options.display.float_format = \"{:,.2f}\".format\n",
    "pd.DataFrame(ot.groupby(\"FRUIT_PRODUCT\")[\"NB PRODS\"].mean().sort_values(ascending=False))"
   ]
  },
  {
   "cell_type": "markdown",
   "id": "088c8644",
   "metadata": {},
   "source": [
    "Now we know that the most purchased fruits are the cheerries."
   ]
  },
  {
   "cell_type": "code",
   "execution_count": 151,
   "id": "d15be5bb",
   "metadata": {
    "scrolled": true
   },
   "outputs": [
    {
     "data": {
      "text/html": [
       "<div>\n",
       "<style scoped>\n",
       "    .dataframe tbody tr th:only-of-type {\n",
       "        vertical-align: middle;\n",
       "    }\n",
       "\n",
       "    .dataframe tbody tr th {\n",
       "        vertical-align: top;\n",
       "    }\n",
       "\n",
       "    .dataframe thead th {\n",
       "        text-align: right;\n",
       "    }\n",
       "</style>\n",
       "<table border=\"1\" class=\"dataframe\">\n",
       "  <thead>\n",
       "    <tr style=\"text-align: right;\">\n",
       "      <th></th>\n",
       "      <th>AVG CONSO</th>\n",
       "    </tr>\n",
       "  </thead>\n",
       "  <tbody>\n",
       "    <tr>\n",
       "      <th>count</th>\n",
       "      <td>35,884.00</td>\n",
       "    </tr>\n",
       "    <tr>\n",
       "      <th>mean</th>\n",
       "      <td>64.53</td>\n",
       "    </tr>\n",
       "    <tr>\n",
       "      <th>std</th>\n",
       "      <td>64.38</td>\n",
       "    </tr>\n",
       "    <tr>\n",
       "      <th>min</th>\n",
       "      <td>0.83</td>\n",
       "    </tr>\n",
       "    <tr>\n",
       "      <th>25%</th>\n",
       "      <td>20.83</td>\n",
       "    </tr>\n",
       "    <tr>\n",
       "      <th>50%</th>\n",
       "      <td>50.00</td>\n",
       "    </tr>\n",
       "    <tr>\n",
       "      <th>75%</th>\n",
       "      <td>88.17</td>\n",
       "    </tr>\n",
       "    <tr>\n",
       "      <th>max</th>\n",
       "      <td>2,433.33</td>\n",
       "    </tr>\n",
       "  </tbody>\n",
       "</table>\n",
       "</div>"
      ],
      "text/plain": [
       "       AVG CONSO\n",
       "count  35,884.00\n",
       "mean       64.53\n",
       "std        64.38\n",
       "min         0.83\n",
       "25%        20.83\n",
       "50%        50.00\n",
       "75%        88.17\n",
       "max     2,433.33"
      ]
     },
     "execution_count": 151,
     "metadata": {},
     "output_type": "execute_result"
    }
   ],
   "source": [
    "pd.DataFrame(ct[\"AVG CONSO\"].describe())"
   ]
  },
  {
   "cell_type": "markdown",
   "id": "1c173ce8",
   "metadata": {},
   "source": [
    "Just by looking at the mean and the standard deviation we can deduce that there's something wrong here. And the proof of it lies in the enormous difference between the max and the 75% quantile. So, it seems we have a huge amount of outlieres that deviate the mean due to its sensitivity to extreme values. And since we are intersted in knowing how most of the clients behave, it would be a good idea to remove those outliers from our data."
   ]
  },
  {
   "cell_type": "code",
   "execution_count": 152,
   "id": "f2a27159",
   "metadata": {
    "scrolled": true
   },
   "outputs": [
    {
     "data": {
      "text/html": [
       "<div>\n",
       "<style scoped>\n",
       "    .dataframe tbody tr th:only-of-type {\n",
       "        vertical-align: middle;\n",
       "    }\n",
       "\n",
       "    .dataframe tbody tr th {\n",
       "        vertical-align: top;\n",
       "    }\n",
       "\n",
       "    .dataframe thead th {\n",
       "        text-align: right;\n",
       "    }\n",
       "</style>\n",
       "<table border=\"1\" class=\"dataframe\">\n",
       "  <thead>\n",
       "    <tr style=\"text-align: right;\">\n",
       "      <th></th>\n",
       "      <th>AVG BASKET SIZE</th>\n",
       "    </tr>\n",
       "  </thead>\n",
       "  <tbody>\n",
       "    <tr>\n",
       "      <th>count</th>\n",
       "      <td>35,884.00</td>\n",
       "    </tr>\n",
       "    <tr>\n",
       "      <th>mean</th>\n",
       "      <td>181.22</td>\n",
       "    </tr>\n",
       "    <tr>\n",
       "      <th>std</th>\n",
       "      <td>129.60</td>\n",
       "    </tr>\n",
       "    <tr>\n",
       "      <th>min</th>\n",
       "      <td>10.00</td>\n",
       "    </tr>\n",
       "    <tr>\n",
       "      <th>25%</th>\n",
       "      <td>100.00</td>\n",
       "    </tr>\n",
       "    <tr>\n",
       "      <th>50%</th>\n",
       "      <td>160.00</td>\n",
       "    </tr>\n",
       "    <tr>\n",
       "      <th>75%</th>\n",
       "      <td>225.00</td>\n",
       "    </tr>\n",
       "    <tr>\n",
       "      <th>max</th>\n",
       "      <td>3,400.20</td>\n",
       "    </tr>\n",
       "  </tbody>\n",
       "</table>\n",
       "</div>"
      ],
      "text/plain": [
       "       AVG BASKET SIZE\n",
       "count        35,884.00\n",
       "mean            181.22\n",
       "std             129.60\n",
       "min              10.00\n",
       "25%             100.00\n",
       "50%             160.00\n",
       "75%             225.00\n",
       "max           3,400.20"
      ]
     },
     "execution_count": 152,
     "metadata": {},
     "output_type": "execute_result"
    }
   ],
   "source": [
    "pd.DataFrame(ct[\"AVG BASKET SIZE\"].describe())"
   ]
  },
  {
   "cell_type": "markdown",
   "id": "12b4e701",
   "metadata": {},
   "source": [
    "Again, we can see the same pattern above the 3rd quartile, with a deviation between the median and the mean that points out the impact of these outliers. "
   ]
  },
  {
   "cell_type": "code",
   "execution_count": 153,
   "id": "49df5332",
   "metadata": {
    "scrolled": false
   },
   "outputs": [
    {
     "data": {
      "image/png": "[encoded data removed]",
      "text/plain": [
       "<Figure size 432x288 with 1 Axes>"
      ]
     },
     "metadata": {
      "needs_background": "light"
     },
     "output_type": "display_data"
    }
   ],
   "source": [
    "sns.distplot(ct[\"AVG CONSO\"]);"
   ]
  },
  {
   "cell_type": "code",
   "execution_count": 154,
   "id": "2d7d9efc",
   "metadata": {
    "scrolled": true
   },
   "outputs": [
    {
     "data": {
      "image/png": "[encoded data removed]",
      "text/plain": [
       "<Figure size 432x288 with 1 Axes>"
      ]
     },
     "metadata": {
      "needs_background": "light"
     },
     "output_type": "display_data"
    }
   ],
   "source": [
    "sns.distplot(ct[\"AVG BASKET SIZE\"]);"
   ]
  },
  {
   "cell_type": "markdown",
   "id": "4c57cf96",
   "metadata": {},
   "source": [
    "Here we can graphically appreciate how skewed our data really is. "
   ]
  },
  {
   "cell_type": "code",
   "execution_count": 155,
   "id": "3d2a2ab6",
   "metadata": {},
   "outputs": [],
   "source": [
    "def moments(x, y):\n",
    "    print(f\"Skewness of {y}: %f\" % x[y].skew())\n",
    "    print(f\"Kurtosis of {y}: %f\" % x[y].kurt())\n",
    "    print()"
   ]
  },
  {
   "cell_type": "code",
   "execution_count": 156,
   "id": "92858d23",
   "metadata": {
    "scrolled": true
   },
   "outputs": [
    {
     "name": "stdout",
     "output_type": "stream",
     "text": [
      "Skewness of AVG BASKET SIZE: 3.061331\n",
      "Kurtosis of AVG BASKET SIZE: 27.357909\n",
      "\n",
      "Skewness of AVG CONSO: 5.067530\n",
      "Kurtosis of AVG CONSO: 94.212367\n",
      "\n"
     ]
    }
   ],
   "source": [
    "moments(ct, \"AVG BASKET SIZE\")\n",
    "moments(ct, \"AVG CONSO\")"
   ]
  },
  {
   "cell_type": "code",
   "execution_count": 157,
   "id": "90a5d47c",
   "metadata": {},
   "outputs": [
    {
     "data": {
      "image/png": "[encoded data removed]",
      "text/plain": [
       "<Figure size 1152x576 with 1 Axes>"
      ]
     },
     "metadata": {
      "needs_background": "light"
     },
     "output_type": "display_data"
    }
   ],
   "source": [
    "f, ax = plt.subplots(figsize=(16, 8))\n",
    "fig = sns.boxplot(x=ct[\"CLIENT_SEGMENT\"], y=ct[\"AVG BASKET SIZE\"])\n",
    "fig.axis(ymin=0);\n",
    "plt.xticks(rotation=90);"
   ]
  },
  {
   "cell_type": "code",
   "execution_count": 158,
   "id": "d848f4fa",
   "metadata": {
    "scrolled": true
   },
   "outputs": [
    {
     "data": {
      "image/png": "[encoded data removed]",
      "text/plain": [
       "<Figure size 1152x576 with 1 Axes>"
      ]
     },
     "metadata": {
      "needs_background": "light"
     },
     "output_type": "display_data"
    }
   ],
   "source": [
    "f, ax = plt.subplots(figsize=(16, 8))\n",
    "fig = sns.boxplot(x=ct[\"CLIENT_SEGMENT\"], y=ct[\"AVG CONSO\"])\n",
    "fig.axis(ymin=0);\n",
    "plt.xticks(rotation=90);"
   ]
  },
  {
   "cell_type": "markdown",
   "id": "664be304",
   "metadata": {},
   "source": [
    "In both cases, the boxplots are nearly invisible due to the presence of these extreme values. But just to be sure, let's perform a probability plot for some normality check."
   ]
  },
  {
   "cell_type": "code",
   "execution_count": 159,
   "id": "9ca4cf6b",
   "metadata": {
    "scrolled": true
   },
   "outputs": [
    {
     "data": {
      "image/png": "[encoded data removed]",
      "text/plain": [
       "<Figure size 432x288 with 1 Axes>"
      ]
     },
     "metadata": {
      "needs_background": "light"
     },
     "output_type": "display_data"
    }
   ],
   "source": [
    "res = stats.probplot(ct[\"AVG BASKET SIZE\"], plot=plt)"
   ]
  },
  {
   "cell_type": "markdown",
   "id": "1c26c007",
   "metadata": {},
   "source": [
    "There is definetly some non-normal behaviour in the tails. Let's try to see if both variables might have a more \"normal-shape\" with a log-transformation before we cut the tails. "
   ]
  },
  {
   "cell_type": "code",
   "execution_count": 160,
   "id": "b4e25e01",
   "metadata": {},
   "outputs": [
    {
     "data": {
      "text/plain": [
       "<AxesSubplot:>"
      ]
     },
     "execution_count": 160,
     "metadata": {},
     "output_type": "execute_result"
    },
    {
     "data": {
      "image/png": "[encoded data removed]",
      "text/plain": [
       "<Figure size 432x288 with 1 Axes>"
      ]
     },
     "metadata": {
      "needs_background": "light"
     },
     "output_type": "display_data"
    }
   ],
   "source": [
    "ct[\"AVG BASKET SIZE\"].apply(np.log).hist()"
   ]
  },
  {
   "cell_type": "code",
   "execution_count": 161,
   "id": "6955cadc",
   "metadata": {
    "scrolled": true
   },
   "outputs": [
    {
     "data": {
      "text/plain": [
       "<AxesSubplot:>"
      ]
     },
     "execution_count": 161,
     "metadata": {},
     "output_type": "execute_result"
    },
    {
     "data": {
      "image/png": "[encoded data removed]",
      "text/plain": [
       "<Figure size 432x288 with 1 Axes>"
      ]
     },
     "metadata": {
      "needs_background": "light"
     },
     "output_type": "display_data"
    }
   ],
   "source": [
    "ct[\"AVG CONSO\"].apply(np.log).hist()"
   ]
  },
  {
   "cell_type": "markdown",
   "id": "2f8a721b",
   "metadata": {},
   "source": [
    "##### Removing outliers"
   ]
  },
  {
   "cell_type": "code",
   "execution_count": 162,
   "id": "81752650",
   "metadata": {
    "scrolled": true
   },
   "outputs": [
    {
     "name": "stdout",
     "output_type": "stream",
     "text": [
      "(array([   72,   154,   301,   450,   618,   752,   863,  1035,  1070,\n",
      "        1133,  1139,  1186,  1318,  1495,  1551,  1609,  1867,  1900,\n",
      "        2032,  2197,  2313,  2324,  2405,  2746,  2771,  2796,  2855,\n",
      "        2882,  2885,  2896,  2981,  3028,  3040,  3132,  3263,  3423,\n",
      "        3476,  3484,  3487,  3572,  3676,  3757,  3795,  3856,  3967,\n",
      "        4025,  4072,  4151,  4346,  4560,  4596,  4695,  4826,  4857,\n",
      "        4962,  4980,  5471,  5613,  5703,  5737,  5791,  5948,  6040,\n",
      "        6049,  6052,  6138,  6213,  6223,  6257,  6268,  6320,  6394,\n",
      "        6459,  6466,  6575,  6639,  6660,  6712,  6715,  7032,  7212,\n",
      "        7231,  7234,  7253,  7420,  7588,  7998,  8003,  8168,  8194,\n",
      "        8368,  8369,  8495,  8619,  8917,  9014,  9136,  9167,  9200,\n",
      "        9258,  9502,  9529,  9736,  9876,  9909,  9968,  9985, 10049,\n",
      "       10102, 10174, 10369, 10399, 10464, 10510, 10588, 10891, 10955,\n",
      "       10990, 10996, 11069, 11072, 11081, 11087, 11111, 11447, 11458,\n",
      "       11590, 11675, 11723, 11951, 12301, 13122, 13201, 13437, 13477,\n",
      "       13535, 13634, 13667, 13733, 13737, 13945, 14013, 14259, 14666,\n",
      "       14744, 14768, 14862, 14958, 15024, 15101, 15278, 15481, 15780,\n",
      "       16077, 16315, 16541, 16551, 16905, 16926, 16928, 17074, 17096,\n",
      "       17112, 17228, 17271, 17456, 17670, 17708, 17750, 17800, 17901,\n",
      "       17944, 18014, 18033, 18171, 18175, 18197, 18206, 18235, 18257,\n",
      "       18477, 18552, 18581, 18584, 18748, 18812, 18918, 18997, 19120,\n",
      "       19145, 19152, 19154, 19160, 19243, 19252, 19307, 19414, 19510,\n",
      "       19526, 19624, 19668, 19696, 19704, 19732, 19756, 19771, 19779,\n",
      "       19815, 19822, 19838, 19913, 19922, 19934, 19959, 19974, 20064,\n",
      "       20106, 20297, 20329, 20419, 20670, 20726, 20754, 20775, 20844,\n",
      "       20882, 20927, 20939, 20992, 21034, 21041, 21169, 21359, 21495,\n",
      "       21497, 21533, 21582, 21633, 21714, 21720, 21727, 21815, 21941,\n",
      "       22273, 22286, 22312, 22340, 22494, 22560, 22645, 22650, 22743,\n",
      "       22745, 22753, 22796, 22853, 22878, 22898, 22926, 22948, 22988,\n",
      "       23002, 23017, 23080, 23081, 23108, 23157, 23167, 23185, 23241,\n",
      "       23288, 23456, 23593, 23609, 23622, 23625, 23740, 23742, 23817,\n",
      "       23820, 23836, 23859, 23863, 23902, 23967, 24067, 24083, 24133,\n",
      "       24168, 24203, 24283, 24298, 24310, 24359, 24465, 24472, 24551,\n",
      "       24655, 24667, 24714, 24752, 24787, 24803, 24898, 24901, 24912,\n",
      "       24971, 24984, 25033, 25060, 25073, 25088, 25091, 25180, 25262,\n",
      "       25316, 25322, 25343, 25357, 25371, 25448, 25475, 25490, 25493,\n",
      "       25549, 25635, 25657, 25718, 25720, 25780, 25813, 25857, 25909,\n",
      "       26154, 26164, 26333, 26449, 26501, 26644, 26656, 26657, 26666,\n",
      "       26680, 26695, 26696, 26741, 26747, 26760, 26797, 26822, 26843,\n",
      "       26918, 27058, 27119, 27154, 27162, 27243, 27266, 27321, 27378,\n",
      "       27394, 27459, 27493, 27632, 27649, 27719, 27793, 27809, 27857,\n",
      "       27860, 27988, 28031, 28082, 28131, 28320, 28347, 28414, 28541,\n",
      "       28545, 28574, 28813, 28940, 29003, 29031, 29066, 29071, 29102,\n",
      "       29134, 29192, 29276, 29287, 29360, 29401, 29464, 29554, 29559,\n",
      "       29571, 29682, 29718, 29849, 29890, 29957, 30023, 30116, 30192,\n",
      "       30204, 30205, 30279, 30335, 30374, 30553, 30578, 30627, 30640,\n",
      "       30683, 30729, 30767, 30768, 30856, 30869, 30985, 31003, 31037,\n",
      "       31049, 31079, 31102, 31187, 31218, 31278, 31345, 31490, 31632,\n",
      "       31640, 31733, 31864, 31882, 31970, 31999, 32074, 32102, 32103,\n",
      "       32194, 32218, 32263, 32378, 32400, 32417, 32464, 32466, 32471,\n",
      "       32502, 32521, 32527, 32546, 32654, 32667, 32742, 32768, 32922,\n",
      "       32966, 33092, 33128, 33168, 33181, 33200, 33257, 33283, 33312,\n",
      "       33372, 33444, 33450, 33484, 33487, 33497, 33562, 33744, 33851,\n",
      "       33860, 33867, 34134, 34185, 34186, 34270, 34333, 34336, 34499,\n",
      "       34511, 34593, 34612, 34832, 34862, 34910, 34963, 34980, 35027,\n",
      "       35065, 35238, 35312, 35338, 35408, 35596, 35616, 35821, 35851],\n",
      "      dtype=int64),)\n"
     ]
    }
   ],
   "source": [
    "# Position of the Outliers\n",
    "print(np.where(ct[\"AVG CONSO\"]>250))"
   ]
  },
  {
   "cell_type": "markdown",
   "id": "74d1d3d9",
   "metadata": {},
   "source": [
    "We now remove the tails via the interquartile range cut."
   ]
  },
  {
   "cell_type": "code",
   "execution_count": 163,
   "id": "226f3825",
   "metadata": {},
   "outputs": [
    {
     "name": "stdout",
     "output_type": "stream",
     "text": [
      "CLIENT ID                1,854,710.75\n",
      "CLIENT_SEGMENT                  -1.00\n",
      "AVG CONSO                      -80.18\n",
      "AVG BASKET SIZE                -87.50\n",
      "RECEIVED_COMMUNICATION          -1.50\n",
      "dtype: float64 CLIENT ID                51,663,786.75\n",
      "CLIENT_SEGMENT                    7.00\n",
      "AVG CONSO                       189.18\n",
      "AVG BASKET SIZE                 412.50\n",
      "RECEIVED_COMMUNICATION            2.50\n",
      "dtype: float64\n"
     ]
    }
   ],
   "source": [
    "Q1 = ct.quantile(0.25)\n",
    "Q3 = ct.quantile(0.75)\n",
    "IQR = Q3 - Q1\n",
    "low = Q1 - 1.5 * IQR\n",
    "upper = Q3 + 1.5 * IQR\n",
    "print(low, upper)"
   ]
  },
  {
   "cell_type": "code",
   "execution_count": 164,
   "id": "e34d4fae",
   "metadata": {
    "scrolled": true
   },
   "outputs": [
    {
     "data": {
      "text/plain": [
       "(33363, 5)"
      ]
     },
     "execution_count": 164,
     "metadata": {},
     "output_type": "execute_result"
    }
   ],
   "source": [
    "trimmed_ct = ct[~((ct < low) | (ct > upper)).any(axis=1)]\n",
    "trimmed_ct.shape   "
   ]
  },
  {
   "cell_type": "markdown",
   "id": "f6444c01",
   "metadata": {},
   "source": [
    "Now that we've handled the outliers, we might continue with our EDA and notice how the boxplots have changed."
   ]
  },
  {
   "cell_type": "code",
   "execution_count": 165,
   "id": "e41737c1",
   "metadata": {
    "scrolled": true
   },
   "outputs": [
    {
     "data": {
      "image/png": "[encoded data removed]",
      "text/plain": [
       "<Figure size 1152x576 with 1 Axes>"
      ]
     },
     "metadata": {
      "needs_background": "light"
     },
     "output_type": "display_data"
    }
   ],
   "source": [
    "f, ax = plt.subplots(figsize=(16, 8))\n",
    "fig = sns.boxplot(x=trimmed_ct[\"CLIENT_SEGMENT\"], y=trimmed_ct[\"AVG BASKET SIZE\"])\n",
    "fig.axis(ymin=0);\n",
    "plt.xticks(rotation=90);"
   ]
  },
  {
   "cell_type": "code",
   "execution_count": 166,
   "id": "0318fd0c",
   "metadata": {
    "scrolled": true
   },
   "outputs": [
    {
     "data": {
      "image/png": "[encoded data removed]",
      "text/plain": [
       "<Figure size 1152x576 with 1 Axes>"
      ]
     },
     "metadata": {
      "needs_background": "light"
     },
     "output_type": "display_data"
    }
   ],
   "source": [
    "f, ax = plt.subplots(figsize=(16, 8))\n",
    "fig = sns.boxplot(x=trimmed_ct[\"CLIENT_SEGMENT\"], y=trimmed_ct[\"AVG CONSO\"])\n",
    "fig.axis(ymin=0);\n",
    "plt.xticks(rotation=90);"
   ]
  },
  {
   "cell_type": "markdown",
   "id": "4f665823",
   "metadata": {},
   "source": [
    "We might see a pattern, except for segment 6, the closer to the 1st segment, the more distributed its data, and the higher is the average consumption."
   ]
  },
  {
   "cell_type": "code",
   "execution_count": 167,
   "id": "13e2a2cc",
   "metadata": {
    "scrolled": true
   },
   "outputs": [
    {
     "data": {
      "image/png": "[encoded data removed]",
      "text/plain": [
       "<Figure size 864x648 with 2 Axes>"
      ]
     },
     "metadata": {
      "needs_background": "light"
     },
     "output_type": "display_data"
    }
   ],
   "source": [
    "correlation(copy)"
   ]
  },
  {
   "cell_type": "markdown",
   "id": "74bb5447",
   "metadata": {},
   "source": [
    "Now that we've removed the noise, we can see that indeed, there is a much more significant correlation between AVG CONSO and CLIENT_SEGMENT. Yet, the RECEIVED_COMMUNICATION variable, doesn't seem to play any significant role at all."
   ]
  },
  {
   "cell_type": "code",
   "execution_count": 168,
   "id": "ef741181",
   "metadata": {
    "scrolled": true
   },
   "outputs": [
    {
     "data": {
      "text/plain": [
       "<AxesSubplot:xlabel='CLIENT_SEGMENT', ylabel='count'>"
      ]
     },
     "execution_count": 168,
     "metadata": {},
     "output_type": "execute_result"
    },
    {
     "data": {
      "image/png": "[encoded data removed]",
      "text/plain": [
       "<Figure size 432x288 with 1 Axes>"
      ]
     },
     "metadata": {
      "needs_background": "light"
     },
     "output_type": "display_data"
    }
   ],
   "source": [
    "# Check the target variable\n",
    "sns.countplot(copy[\"CLIENT_SEGMENT\"])"
   ]
  },
  {
   "cell_type": "code",
   "execution_count": 169,
   "id": "b3dc1745",
   "metadata": {
    "scrolled": true
   },
   "outputs": [
    {
     "data": {
      "text/plain": [
       "<AxesSubplot:xlabel='RECEIVED_COMMUNICATION', ylabel='count'>"
      ]
     },
     "execution_count": 169,
     "metadata": {},
     "output_type": "execute_result"
    },
    {
     "data": {
      "image/png": "[encoded data removed]",
      "text/plain": [
       "<Figure size 432x288 with 1 Axes>"
      ]
     },
     "metadata": {
      "needs_background": "light"
     },
     "output_type": "display_data"
    }
   ],
   "source": [
    "sns.countplot(copy[\"RECEIVED_COMMUNICATION\"])"
   ]
  },
  {
   "cell_type": "code",
   "execution_count": 170,
   "id": "511ab3af",
   "metadata": {
    "scrolled": true
   },
   "outputs": [
    {
     "data": {
      "image/png": "[encoded data removed]",
      "text/plain": [
       "<Figure size 1152x576 with 1 Axes>"
      ]
     },
     "metadata": {
      "needs_background": "light"
     },
     "output_type": "display_data"
    }
   ],
   "source": [
    "f, ax = plt.subplots(figsize=(16, 8))\n",
    "fig = sns.boxplot(x=trimmed_ct[\"RECEIVED_COMMUNICATION\"], y=trimmed_ct[\"AVG BASKET SIZE\"])\n",
    "fig.axis(ymin=0);\n",
    "plt.xticks(rotation=90);"
   ]
  },
  {
   "cell_type": "markdown",
   "id": "ad1332c4",
   "metadata": {},
   "source": [
    "There is not significant difference in the basket size between those who received and those who didn't receive any information. "
   ]
  },
  {
   "cell_type": "markdown",
   "id": "21b97a70",
   "metadata": {},
   "source": [
    "##### CatBoost and Prediction"
   ]
  },
  {
   "cell_type": "code",
   "execution_count": 171,
   "id": "164c9b61",
   "metadata": {},
   "outputs": [],
   "source": [
    "y = trimmed_ct[\"CLIENT_SEGMENT\"]\n",
    "x = trimmed_ct.drop(\"CLIENT_SEGMENT\", 1)"
   ]
  },
  {
   "cell_type": "code",
   "execution_count": 172,
   "id": "9472f094",
   "metadata": {
    "scrolled": true
   },
   "outputs": [
    {
     "data": {
      "text/html": [
       "<div>\n",
       "<style scoped>\n",
       "    .dataframe tbody tr th:only-of-type {\n",
       "        vertical-align: middle;\n",
       "    }\n",
       "\n",
       "    .dataframe tbody tr th {\n",
       "        vertical-align: top;\n",
       "    }\n",
       "\n",
       "    .dataframe thead th {\n",
       "        text-align: right;\n",
       "    }\n",
       "</style>\n",
       "<table border=\"1\" class=\"dataframe\">\n",
       "  <thead>\n",
       "    <tr style=\"text-align: right;\">\n",
       "      <th></th>\n",
       "      <th>CLIENT ID</th>\n",
       "      <th>AVG CONSO</th>\n",
       "      <th>AVG BASKET SIZE</th>\n",
       "      <th>RECEIVED_COMMUNICATION</th>\n",
       "    </tr>\n",
       "  </thead>\n",
       "  <tbody>\n",
       "    <tr>\n",
       "      <th>0</th>\n",
       "      <td>48352078</td>\n",
       "      <td>8.33</td>\n",
       "      <td>100.00</td>\n",
       "      <td>0</td>\n",
       "    </tr>\n",
       "    <tr>\n",
       "      <th>1</th>\n",
       "      <td>18072186</td>\n",
       "      <td>93.42</td>\n",
       "      <td>186.83</td>\n",
       "      <td>1</td>\n",
       "    </tr>\n",
       "    <tr>\n",
       "      <th>2</th>\n",
       "      <td>48352246</td>\n",
       "      <td>45.83</td>\n",
       "      <td>137.50</td>\n",
       "      <td>0</td>\n",
       "    </tr>\n",
       "    <tr>\n",
       "      <th>3</th>\n",
       "      <td>18070621</td>\n",
       "      <td>16.67</td>\n",
       "      <td>200.00</td>\n",
       "      <td>1</td>\n",
       "    </tr>\n",
       "    <tr>\n",
       "      <th>4</th>\n",
       "      <td>48352262</td>\n",
       "      <td>13.33</td>\n",
       "      <td>160.00</td>\n",
       "      <td>0</td>\n",
       "    </tr>\n",
       "  </tbody>\n",
       "</table>\n",
       "</div>"
      ],
      "text/plain": [
       "   CLIENT ID  AVG CONSO  AVG BASKET SIZE  RECEIVED_COMMUNICATION\n",
       "0   48352078       8.33           100.00                       0\n",
       "1   18072186      93.42           186.83                       1\n",
       "2   48352246      45.83           137.50                       0\n",
       "3   18070621      16.67           200.00                       1\n",
       "4   48352262      13.33           160.00                       0"
      ]
     },
     "execution_count": 172,
     "metadata": {},
     "output_type": "execute_result"
    }
   ],
   "source": [
    "x_test = pd.read_csv(\"mwc22-client_table+-+test_x.csv\", decimal=',')\n",
    "x_test.head()"
   ]
  },
  {
   "cell_type": "code",
   "execution_count": 173,
   "id": "4107ee02",
   "metadata": {},
   "outputs": [
    {
     "name": "stdout",
     "output_type": "stream",
     "text": [
      "[[5]\n",
      " [1]\n",
      " [3]\n",
      " [4]\n",
      " [4]\n",
      " [4]\n",
      " [4]\n",
      " [3]\n",
      " [4]\n",
      " [2]\n",
      " [1]\n",
      " [1]\n",
      " [2]\n",
      " [5]\n",
      " [1]\n",
      " [3]\n",
      " [4]\n",
      " [1]\n",
      " [1]]\n"
     ]
    }
   ],
   "source": [
    "from catboost import CatBoostClassifier\n",
    "\n",
    "model = CatBoostClassifier(iterations=1000,\n",
    "                           task_type=\"GPU\",\n",
    "                           devices=\"0:1\",\n",
    "                           learning_rate=0.01,\n",
    "                           depth=2,\n",
    "                           loss_function=\"MultiClass\")\n",
    "\n",
    "model.fit(x, y, verbose=False)\n",
    "\n",
    "y_pred = model.predict(x_test)\n",
    "print(y_pred)"
   ]
  },
  {
   "cell_type": "code",
   "execution_count": 174,
   "id": "e15997a5",
   "metadata": {},
   "outputs": [],
   "source": [
    "final_results = x_test[\"CLIENT ID\"]"
   ]
  },
  {
   "cell_type": "code",
   "execution_count": 175,
   "id": "b89c74bd",
   "metadata": {},
   "outputs": [],
   "source": [
    "final_results = pd.concat([pd.DataFrame(final_results), pd.DataFrame(y_pred)], axis=1)"
   ]
  },
  {
   "cell_type": "code",
   "execution_count": 176,
   "id": "d2c9af91",
   "metadata": {
    "scrolled": true
   },
   "outputs": [],
   "source": [
    "final_results = final_results.set_axis([\"CLIENT ID\", \"CLIENT_SEGMENT\"], axis=1)"
   ]
  },
  {
   "cell_type": "code",
   "execution_count": 177,
   "id": "d73f88db",
   "metadata": {},
   "outputs": [],
   "source": [
    "final_results.to_csv(\"results.csv\", index = False)"
   ]
  }
 ],
 "metadata": {
  "kernelspec": {
   "display_name": "Python 3 (ipykernel)",
   "language": "python",
   "name": "python3"
  },
  "language_info": {
   "codemirror_mode": {
    "name": "ipython",
    "version": 3
   },
   "file_extension": ".py",
   "mimetype": "text/x-python",
   "name": "python",
   "nbconvert_exporter": "python",
   "pygments_lexer": "ipython3",
   "version": "3.9.7"
  }
 },
 "nbformat": 4,
 "nbformat_minor": 5
}
